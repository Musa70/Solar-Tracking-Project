{
 "cells": [
  {
   "cell_type": "code",
   "execution_count": 15,
   "id": "3a9d0cb5",
   "metadata": {},
   "outputs": [],
   "source": [
    "import pandas as pd\n",
    "import statsmodels.stats.multicomp as mc\n",
    "from scipy.stats import anderson, shapiro\n",
    "from scipy.stats import kruskal\n",
    "import scikit_posthocs as sp\n",
    "from scipy.stats import kruskal\n",
    "from scikit_posthocs import posthoc_dunn\n",
    "from scipy.stats import levene\n",
    "\n",
    "# read RMSE, MAE, MAPE csv files\n",
    "RMSE_df = pd.read_csv('/Users/musaphiri/Documents/Solar Tracking Research/Solar tracking dataset document/Solar tracking notebooks/csv_metrics/RMSE.csv')\n",
    "MAE_df = pd.read_csv('/Users/musaphiri/Documents/Solar Tracking Research/Solar tracking dataset document/Solar tracking notebooks/csv_metrics/MAE.csv')\n",
    "MAPE_df = pd.read_csv('/Users/musaphiri/Documents/Solar Tracking Research/Solar tracking dataset document/Solar tracking notebooks/csv_metrics/MAPE.csv')\n",
    "#RMSE_df1 = pd.read_csv('/Users/musaphiri/Documents/Solar Tracking Research/Solar tracking dataset document/Solar tracking notebooks/RMSE.csv')"
   ]
  },
  {
   "cell_type": "code",
   "execution_count": 16,
   "id": "7f58bd79",
   "metadata": {},
   "outputs": [],
   "source": [
    "long_RMSE_df = pd.melt(RMSE_df, var_name='Group', value_name='Value')\n",
    "long_MAE_df = pd.melt(MAE_df, var_name='Group', value_name='Value')\n",
    "long_MAPE_df = pd.melt(MAPE_df, var_name='Group', value_name='Value')"
   ]
  },
  {
   "cell_type": "markdown",
   "id": "6bda0188",
   "metadata": {},
   "source": [
    "# RMSE"
   ]
  },
  {
   "cell_type": "code",
   "execution_count": 17,
   "id": "81bab0df",
   "metadata": {},
   "outputs": [
    {
     "name": "stdout",
     "output_type": "stream",
     "text": [
      "LSTM Shapiro-Wilk statistic: 0.8816819190979004\n",
      "LSTM p-value: 0.0030820821411907673\n",
      "CNN Shapiro-Wilk statistic: 0.9186841249465942\n",
      "CNN p-value: 0.02479676343500614\n",
      "SCT-CNN-LSTM Shapiro-Wilk statistic: 0.9402452707290649\n",
      "SCT-CNN-LSTM p-value: 0.09235288202762604\n",
      "GRU Shapiro-Wilk statistic: 0.9090702533721924\n",
      "GRU p-value: 0.014099323190748692\n"
     ]
    }
   ],
   "source": [
    "# # Perform the Anderson-Darling test\n",
    "# for group in RMSE_df.Group.unique():\n",
    "#     statistic, critical_values, significance_level = anderson(RMSE_df[RMSE_df.Group==group].Value)\n",
    "#     print(f\"{group} Anderson-Darling statistic: {statistic}\")\n",
    "#     print(f\"{group} Critical values: {critical_values}\")\n",
    "#     print(f\"{group} Significance level: {significance_level}\")\n",
    "\n",
    "'''\n",
    "The Shapiro-Wilk test returns a test statistic and \n",
    "a p-value. If the p-value is less than a certain significance \n",
    "level (usually 0.05), it is concluded that the data does not \n",
    "come from a normal distribution. If the p-value is greater than \n",
    "the significance level, it is concluded that there is not enough \n",
    "evidence to suggest that the data does not come from a normal distribution.\n",
    "''' \n",
    "\n",
    "# Perform the Shapiro-Wilk test\n",
    "for group in long_RMSE_df.Group.unique():\n",
    "    statistic, p_value = shapiro(long_RMSE_df[long_RMSE_df.Group==group].Value)\n",
    "    print(f\"{group} Shapiro-Wilk statistic: {statistic}\")\n",
    "    print(f\"{group} p-value: {p_value}\")   "
   ]
  },
  {
   "cell_type": "code",
   "execution_count": 18,
   "id": "3631a416",
   "metadata": {},
   "outputs": [
    {
     "name": "stdout",
     "output_type": "stream",
     "text": [
      "Statistic:  6.4858851750460635\n",
      "P-value:  0.0004266312360187299\n"
     ]
    }
   ],
   "source": [
    "# # create a pandas dataframe\n",
    "# df = pd.DataFrame({'group': ['group1', 'group1', 'group1', 'group1', 'group1', 'group2', 'group2', 'group2', 'group2', 'group2','group3','group3','group3','group3','group3'],\n",
    "#                   'value': [1.2, 2.3, 3.1, 4.5, 5.6, 2.3, 3.4, 4.1, 5.2, 6.3,1.1, 2.2,3.3,4.4,5.5]})\n",
    "\n",
    "# perform the Brown-Forsythe test\n",
    "stat, p_value = levene(*[long_RMSE_df[long_RMSE_df.Group==group].Value.values for group in long_RMSE_df.Group.unique()], center='median')\n",
    "\n",
    "print(\"Statistic: \", stat)\n",
    "print(\"P-value: \", p_value)"
   ]
  },
  {
   "cell_type": "markdown",
   "id": "2775a0bf",
   "metadata": {},
   "source": [
    "The Fligner-Killeen test and the Brown-Forsythe test are both non-parametric tests used to check if variances are equal across multiple groups. They are particularly useful when the data is not normally distributed and the sample sizes are not equal.\n",
    "\n",
    "Fligner-Killeen test: This test is used to determine if the variances of two or more groups are equal. It compares the variances of each group to the overall variance of the data. It is a non-parametric test and it's based on the median of the data rather than the mean.\n",
    "\n",
    "Brown-Forsythe test: This test is used to determine if the variances of two or more groups are equal. It compares the variances of each group to the overall variance of the data. It is a non-parametric test and it's based on the absolute deviation of the data from the median rather than the mean. The Brown-Forsythe test is a non-parametric test that can be used to check if variances are equal across multiple groups when the sample sizes are equal. It is based on the absolute deviation of the data from the median rather than the mean and it's robust to non-normality."
   ]
  },
  {
   "cell_type": "code",
   "execution_count": 19,
   "id": "3de2dedf",
   "metadata": {},
   "outputs": [
    {
     "name": "stdout",
     "output_type": "stream",
     "text": [
      "Kruskal-Wallis statistic: 37.17145650014934\n",
      "p-value: 4.232631860333199e-08\n",
      "The null hypothesis of equal medians can be rejected. There is a significant difference among the groups.\n"
     ]
    }
   ],
   "source": [
    "# Perform the Kruskal-Wallis test\n",
    "statistic, p_value = kruskal(*[long_RMSE_df[long_RMSE_df.Group==group].Value.values for group in long_RMSE_df.Group.unique()])\n",
    "print(f\"Kruskal-Wallis statistic: {statistic}\")\n",
    "print(f\"p-value: {p_value}\")\n",
    "\n",
    "\n",
    "if p_value < 0.05:\n",
    "    print(\"The null hypothesis of equal medians can be rejected. There is a significant difference among the groups.\")\n",
    "else:\n",
    "    print(\"The null hypothesis of equal medians cannot be rejected.\")"
   ]
  },
  {
   "cell_type": "markdown",
   "id": "6707bf9f",
   "metadata": {},
   "source": [
    "In this example, the data is contained in a pandas dataframe, where the column \"group\" indicates the group to which each value belongs to. The test compares the variances of each group using the absolute deviation of the data from the median rather than the mean.\n",
    "\n",
    "The test will return a p-value. If the p-value is less than the significance level (usually 0.05), the variances are considered not equal.\n",
    "\n",
    "It's worth noting that this is a simple example, in a real-world scenario, you need to check the assumptions of your data, sample size and the significance level, and accordingly decide if the variances are equal or not."
   ]
  },
  {
   "cell_type": "code",
   "execution_count": 20,
   "id": "346ab5b5",
   "metadata": {},
   "outputs": [
    {
     "data": {
      "text/html": [
       "<div>\n",
       "<style scoped>\n",
       "    .dataframe tbody tr th:only-of-type {\n",
       "        vertical-align: middle;\n",
       "    }\n",
       "\n",
       "    .dataframe tbody tr th {\n",
       "        vertical-align: top;\n",
       "    }\n",
       "\n",
       "    .dataframe thead th {\n",
       "        text-align: right;\n",
       "    }\n",
       "</style>\n",
       "<table border=\"1\" class=\"dataframe\">\n",
       "  <thead>\n",
       "    <tr style=\"text-align: right;\">\n",
       "      <th></th>\n",
       "      <th>CNN</th>\n",
       "      <th>GRU</th>\n",
       "      <th>LSTM</th>\n",
       "      <th>SCT-CNN-LSTM</th>\n",
       "    </tr>\n",
       "  </thead>\n",
       "  <tbody>\n",
       "    <tr>\n",
       "      <th>CNN</th>\n",
       "      <td>1.000000</td>\n",
       "      <td>2.817955e-01</td>\n",
       "      <td>0.088819</td>\n",
       "      <td>3.658020e-06</td>\n",
       "    </tr>\n",
       "    <tr>\n",
       "      <th>GRU</th>\n",
       "      <td>0.281795</td>\n",
       "      <td>1.000000e+00</td>\n",
       "      <td>0.005470</td>\n",
       "      <td>1.155144e-08</td>\n",
       "    </tr>\n",
       "    <tr>\n",
       "      <th>LSTM</th>\n",
       "      <td>0.088819</td>\n",
       "      <td>5.470241e-03</td>\n",
       "      <td>1.000000</td>\n",
       "      <td>3.408607e-03</td>\n",
       "    </tr>\n",
       "    <tr>\n",
       "      <th>SCT-CNN-LSTM</th>\n",
       "      <td>0.000004</td>\n",
       "      <td>1.155144e-08</td>\n",
       "      <td>0.003409</td>\n",
       "      <td>1.000000e+00</td>\n",
       "    </tr>\n",
       "  </tbody>\n",
       "</table>\n",
       "</div>"
      ],
      "text/plain": [
       "                   CNN           GRU      LSTM  SCT-CNN-LSTM\n",
       "CNN           1.000000  2.817955e-01  0.088819  3.658020e-06\n",
       "GRU           0.281795  1.000000e+00  0.005470  1.155144e-08\n",
       "LSTM          0.088819  5.470241e-03  1.000000  3.408607e-03\n",
       "SCT-CNN-LSTM  0.000004  1.155144e-08  0.003409  1.000000e+00"
      ]
     },
     "execution_count": 20,
     "metadata": {},
     "output_type": "execute_result"
    }
   ],
   "source": [
    "# Perform the Dunn's test on the dataframe\n",
    "dunn_results = posthoc_dunn(long_RMSE_df,'Value', 'Group')\n",
    "dunn_results"
   ]
  },
  {
   "cell_type": "markdown",
   "id": "34bb9ad1",
   "metadata": {},
   "source": [
    "The results of a Dunn's test are typically reported as a matrix of p-values. Each element in the matrix corresponds to a pair of groups, and the value represents the p-value for the null hypothesis that the means of the two groups are equal.\n",
    "\n",
    "A small p-value (typically less than 0.05) indicates that there is strong evidence to reject the null hypothesis, and that there is a significant difference in means between the two groups. A large p-value (typically greater than 0.05) indicates that there is not enough evidence to reject the null hypothesis, and that there is not a significant difference in means between the two groups.\n",
    "\n",
    "It is important to adjust the p-value for multiple comparisons, this is done by applying a correction method such as bonferroni or holm correction. This helps to control the family wise error rate.\n",
    "\n",
    "When interpreting the results, it's also important to consider the context of the experiment and any external information that might be relevant. For example, if the groups being compared are known to have distinct characteristics or if the difference in means is large enough, it might be reasonable to conclude that the groups are significantly different even if the p-value is not quite small enough to reject the null hypothesis."
   ]
  },
  {
   "cell_type": "markdown",
   "id": "6144ae46",
   "metadata": {},
   "source": [
    "# MAE"
   ]
  },
  {
   "cell_type": "code",
   "execution_count": 21,
   "id": "a319a2f5",
   "metadata": {},
   "outputs": [
    {
     "name": "stdout",
     "output_type": "stream",
     "text": [
      "LSTM Shapiro-Wilk statistic: 0.8857030868530273\n",
      "LSTM p-value: 0.0038217699620872736\n",
      "CNN Shapiro-Wilk statistic: 0.8638902902603149\n",
      "CNN p-value: 0.001228554523549974\n",
      "SCT-CNN-LSTM Shapiro-Wilk statistic: 0.9547849893569946\n",
      "SCT-CNN-LSTM p-value: 0.22666142880916595\n",
      "GRU Shapiro-Wilk statistic: 0.9141759872436523\n",
      "GRU p-value: 0.018992271274328232\n"
     ]
    }
   ],
   "source": [
    "'''\n",
    "The Shapiro-Wilk test returns a test statistic and \n",
    "a p-value. If the p-value is less than a certain significance \n",
    "level (usually 0.05), it is concluded that the data does not \n",
    "come from a normal distribution. If the p-value is greater than \n",
    "the significance level, it is concluded that there is not enough \n",
    "evidence to suggest that the data does not come from a normal distribution.\n",
    "''' \n",
    "\n",
    "# Perform the Shapiro-Wilk test\n",
    "for group in long_MAE_df.Group.unique():\n",
    "    statistic, p_value = shapiro(long_MAE_df[long_MAE_df.Group==group].Value)\n",
    "    print(f\"{group} Shapiro-Wilk statistic: {statistic}\")\n",
    "    print(f\"{group} p-value: {p_value}\")   "
   ]
  },
  {
   "cell_type": "code",
   "execution_count": 22,
   "id": "feb3f791",
   "metadata": {},
   "outputs": [
    {
     "name": "stdout",
     "output_type": "stream",
     "text": [
      "Statistic:  5.122547555340878\n",
      "P-value:  0.002305570685708242\n"
     ]
    }
   ],
   "source": [
    "# perform the Brown-Forsythe test\n",
    "stat, p_value = levene(*[long_MAE_df[long_MAE_df.Group==group].Value.values for group in long_MAE_df.Group.unique()], center='median')\n",
    "\n",
    "print(\"Statistic: \", stat)\n",
    "print(\"P-value: \", p_value)"
   ]
  },
  {
   "cell_type": "code",
   "execution_count": 23,
   "id": "2ec3bd3e",
   "metadata": {},
   "outputs": [
    {
     "name": "stdout",
     "output_type": "stream",
     "text": [
      "Kruskal-Wallis statistic: 33.35437523780362\n",
      "p-value: 2.7113515861046045e-07\n",
      "The null hypothesis of equal medians can be rejected. There is a significant difference among the groups.\n"
     ]
    }
   ],
   "source": [
    "# Perform the Kruskal-Wallis test\n",
    "statistic, p_value = kruskal(*[long_MAE_df[long_MAE_df.Group==group].Value.values for group in long_MAE_df.Group.unique()])\n",
    "print(f\"Kruskal-Wallis statistic: {statistic}\")\n",
    "print(f\"p-value: {p_value}\")\n",
    "\n",
    "\n",
    "if p_value < 0.05:\n",
    "    print(\"The null hypothesis of equal medians can be rejected. There is a significant difference among the groups.\")\n",
    "else:\n",
    "    print(\"The null hypothesis of equal medians cannot be rejected.\")"
   ]
  },
  {
   "cell_type": "code",
   "execution_count": 24,
   "id": "f78e1d6a",
   "metadata": {},
   "outputs": [
    {
     "data": {
      "text/html": [
       "<div>\n",
       "<style scoped>\n",
       "    .dataframe tbody tr th:only-of-type {\n",
       "        vertical-align: middle;\n",
       "    }\n",
       "\n",
       "    .dataframe tbody tr th {\n",
       "        vertical-align: top;\n",
       "    }\n",
       "\n",
       "    .dataframe thead th {\n",
       "        text-align: right;\n",
       "    }\n",
       "</style>\n",
       "<table border=\"1\" class=\"dataframe\">\n",
       "  <thead>\n",
       "    <tr style=\"text-align: right;\">\n",
       "      <th></th>\n",
       "      <th>CNN</th>\n",
       "      <th>GRU</th>\n",
       "      <th>LSTM</th>\n",
       "      <th>SCT-CNN-LSTM</th>\n",
       "    </tr>\n",
       "  </thead>\n",
       "  <tbody>\n",
       "    <tr>\n",
       "      <th>CNN</th>\n",
       "      <td>1.000000</td>\n",
       "      <td>7.392002e-02</td>\n",
       "      <td>0.454066</td>\n",
       "      <td>1.123890e-04</td>\n",
       "    </tr>\n",
       "    <tr>\n",
       "      <th>GRU</th>\n",
       "      <td>0.073920</td>\n",
       "      <td>1.000000e+00</td>\n",
       "      <td>0.011220</td>\n",
       "      <td>1.611326e-08</td>\n",
       "    </tr>\n",
       "    <tr>\n",
       "      <th>LSTM</th>\n",
       "      <td>0.454066</td>\n",
       "      <td>1.122031e-02</td>\n",
       "      <td>1.000000</td>\n",
       "      <td>1.848785e-03</td>\n",
       "    </tr>\n",
       "    <tr>\n",
       "      <th>SCT-CNN-LSTM</th>\n",
       "      <td>0.000112</td>\n",
       "      <td>1.611326e-08</td>\n",
       "      <td>0.001849</td>\n",
       "      <td>1.000000e+00</td>\n",
       "    </tr>\n",
       "  </tbody>\n",
       "</table>\n",
       "</div>"
      ],
      "text/plain": [
       "                   CNN           GRU      LSTM  SCT-CNN-LSTM\n",
       "CNN           1.000000  7.392002e-02  0.454066  1.123890e-04\n",
       "GRU           0.073920  1.000000e+00  0.011220  1.611326e-08\n",
       "LSTM          0.454066  1.122031e-02  1.000000  1.848785e-03\n",
       "SCT-CNN-LSTM  0.000112  1.611326e-08  0.001849  1.000000e+00"
      ]
     },
     "execution_count": 24,
     "metadata": {},
     "output_type": "execute_result"
    }
   ],
   "source": [
    "# Perform the Dunn's test on the dataframe\n",
    "dunn_results = posthoc_dunn(long_MAE_df,'Value', 'Group')\n",
    "dunn_results"
   ]
  },
  {
   "cell_type": "markdown",
   "id": "114557cd",
   "metadata": {},
   "source": [
    "# MAPE"
   ]
  },
  {
   "cell_type": "code",
   "execution_count": 25,
   "id": "6b005561",
   "metadata": {},
   "outputs": [
    {
     "name": "stdout",
     "output_type": "stream",
     "text": [
      "LSTM Shapiro-Wilk statistic: 0.8850650191307068\n",
      "LSTM p-value: 0.0036928465124219656\n",
      "CNN Shapiro-Wilk statistic: 0.9300492405891418\n",
      "CNN p-value: 0.049251098185777664\n",
      "SCT-CNN-LSTM Shapiro-Wilk statistic: 0.9725630283355713\n",
      "SCT-CNN-LSTM p-value: 0.6114177703857422\n",
      "GRU Shapiro-Wilk statistic: 0.8401433825492859\n",
      "GRU p-value: 0.0003881706506945193\n"
     ]
    }
   ],
   "source": [
    "'''\n",
    "The Shapiro-Wilk test returns a test statistic and \n",
    "a p-value. If the p-value is less than a certain significance \n",
    "level (usually 0.05), it is concluded that the data does not \n",
    "come from a normal distribution. If the p-value is greater than \n",
    "the significance level, it is concluded that there is not enough \n",
    "evidence to suggest that the data does not come from a normal distribution.\n",
    "''' \n",
    "\n",
    "# Perform the Shapiro-Wilk test\n",
    "for group in long_MAPE_df.Group.unique():\n",
    "    statistic, p_value = shapiro(long_MAPE_df[long_MAPE_df.Group==group].Value)\n",
    "    print(f\"{group} Shapiro-Wilk statistic: {statistic}\")\n",
    "    print(f\"{group} p-value: {p_value}\")   "
   ]
  },
  {
   "cell_type": "code",
   "execution_count": 26,
   "id": "6e1bbf72",
   "metadata": {},
   "outputs": [
    {
     "name": "stdout",
     "output_type": "stream",
     "text": [
      "Statistic:  4.290548508501065\n",
      "P-value:  0.0065488444023000456\n"
     ]
    }
   ],
   "source": [
    "# perform the Brown-Forsythe test\n",
    "stat, p_value = levene(*[long_MAPE_df[long_MAPE_df.Group==group].Value.values for group in long_MAPE_df.Group.unique()], center='median')\n",
    "\n",
    "print(\"Statistic: \", stat)\n",
    "print(\"P-value: \", p_value)"
   ]
  },
  {
   "cell_type": "code",
   "execution_count": 27,
   "id": "207bfde1",
   "metadata": {},
   "outputs": [
    {
     "name": "stdout",
     "output_type": "stream",
     "text": [
      "Kruskal-Wallis statistic: 17.909009084090332\n",
      "p-value: 0.0004592699940952509\n",
      "The null hypothesis of equal medians can be rejected. There is a significant difference among the groups.\n"
     ]
    }
   ],
   "source": [
    "# Perform the Kruskal-Wallis test\n",
    "statistic, p_value = kruskal(*[long_MAPE_df[long_MAPE_df.Group==group].Value.values for group in long_MAPE_df.Group.unique()])\n",
    "print(f\"Kruskal-Wallis statistic: {statistic}\")\n",
    "print(f\"p-value: {p_value}\")\n",
    "\n",
    "\n",
    "if p_value < 0.05:\n",
    "    print(\"The null hypothesis of equal medians can be rejected. There is a significant difference among the groups.\")\n",
    "else:\n",
    "    print(\"The null hypothesis of equal medians cannot be rejected.\")"
   ]
  },
  {
   "cell_type": "code",
   "execution_count": 28,
   "id": "78d315bc",
   "metadata": {},
   "outputs": [
    {
     "data": {
      "text/html": [
       "<div>\n",
       "<style scoped>\n",
       "    .dataframe tbody tr th:only-of-type {\n",
       "        vertical-align: middle;\n",
       "    }\n",
       "\n",
       "    .dataframe tbody tr th {\n",
       "        vertical-align: top;\n",
       "    }\n",
       "\n",
       "    .dataframe thead th {\n",
       "        text-align: right;\n",
       "    }\n",
       "</style>\n",
       "<table border=\"1\" class=\"dataframe\">\n",
       "  <thead>\n",
       "    <tr style=\"text-align: right;\">\n",
       "      <th></th>\n",
       "      <th>CNN</th>\n",
       "      <th>GRU</th>\n",
       "      <th>LSTM</th>\n",
       "      <th>SCT-CNN-LSTM</th>\n",
       "    </tr>\n",
       "  </thead>\n",
       "  <tbody>\n",
       "    <tr>\n",
       "      <th>CNN</th>\n",
       "      <td>1.000000</td>\n",
       "      <td>0.823783</td>\n",
       "      <td>0.738362</td>\n",
       "      <td>0.000284</td>\n",
       "    </tr>\n",
       "    <tr>\n",
       "      <th>GRU</th>\n",
       "      <td>0.823783</td>\n",
       "      <td>1.000000</td>\n",
       "      <td>0.911346</td>\n",
       "      <td>0.000657</td>\n",
       "    </tr>\n",
       "    <tr>\n",
       "      <th>LSTM</th>\n",
       "      <td>0.738362</td>\n",
       "      <td>0.911346</td>\n",
       "      <td>1.000000</td>\n",
       "      <td>0.000982</td>\n",
       "    </tr>\n",
       "    <tr>\n",
       "      <th>SCT-CNN-LSTM</th>\n",
       "      <td>0.000284</td>\n",
       "      <td>0.000657</td>\n",
       "      <td>0.000982</td>\n",
       "      <td>1.000000</td>\n",
       "    </tr>\n",
       "  </tbody>\n",
       "</table>\n",
       "</div>"
      ],
      "text/plain": [
       "                   CNN       GRU      LSTM  SCT-CNN-LSTM\n",
       "CNN           1.000000  0.823783  0.738362      0.000284\n",
       "GRU           0.823783  1.000000  0.911346      0.000657\n",
       "LSTM          0.738362  0.911346  1.000000      0.000982\n",
       "SCT-CNN-LSTM  0.000284  0.000657  0.000982      1.000000"
      ]
     },
     "execution_count": 28,
     "metadata": {},
     "output_type": "execute_result"
    }
   ],
   "source": [
    "# Perform the Dunn's test on the dataframe\n",
    "dunn_results = posthoc_dunn(long_MAPE_df,'Value', 'Group')\n",
    "dunn_results"
   ]
  }
 ],
 "metadata": {
  "kernelspec": {
   "display_name": "Python 3.9 (tensorflow)",
   "language": "python",
   "name": "tensorflow"
  },
  "language_info": {
   "codemirror_mode": {
    "name": "ipython",
    "version": 3
   },
   "file_extension": ".py",
   "mimetype": "text/x-python",
   "name": "python",
   "nbconvert_exporter": "python",
   "pygments_lexer": "ipython3",
   "version": "3.9.13"
  }
 },
 "nbformat": 4,
 "nbformat_minor": 5
}
