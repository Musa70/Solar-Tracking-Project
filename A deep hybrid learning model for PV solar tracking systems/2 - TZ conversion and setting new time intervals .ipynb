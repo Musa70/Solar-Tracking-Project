{
 "cells": [
  {
   "cell_type": "markdown",
   "id": "b5aad8dc",
   "metadata": {},
   "source": [
    "# Time-Zone Conversion and Time-Interval Resampling"
   ]
  },
  {
   "cell_type": "code",
   "execution_count": 1,
   "id": "e57cadda",
   "metadata": {},
   "outputs": [],
   "source": [
    "# Import the neccessary liabraries \n",
    "import pandas as pd \n",
    "# Use this to view list of time zones\n",
    "from pytz import country_names, country_timezones \n",
    "import pytz\n",
    "\n",
    "from pathlib import Path\n",
    "\n",
    "import numpy as np"
   ]
  },
  {
   "cell_type": "code",
   "execution_count": 2,
   "id": "b01995f2",
   "metadata": {},
   "outputs": [
    {
     "name": "stderr",
     "output_type": "stream",
     "text": [
      "/var/folders/5j/xr1qcm6x1mv4nngf8t6gl5zc0000gn/T/ipykernel_3695/767048996.py:2: DtypeWarning: Columns (0) have mixed types. Specify dtype option on import or set low_memory=False.\n",
      "  df = pd.read_csv('/Users/musaphiri/Documents/Solar Tracking Research/Solar tracking dataset document/solar_tracking.csv')\n"
     ]
    }
   ],
   "source": [
    "# read solar tracking csv file from saved directory\n",
    "df = pd.read_csv('/Users/musaphiri/Documents/Solar Tracking Research/Solar tracking dataset document/solar_tracking.csv')"
   ]
  },
  {
   "cell_type": "code",
   "execution_count": 3,
   "id": "153f2431",
   "metadata": {},
   "outputs": [],
   "source": [
    "#drop date column\n",
    "df = df.drop(['date'], axis = 1)"
   ]
  },
  {
   "cell_type": "code",
   "execution_count": 4,
   "id": "5b70511d",
   "metadata": {},
   "outputs": [
    {
     "data": {
      "text/plain": [
       "' view list of all countries and time zones '"
      ]
     },
     "execution_count": 4,
     "metadata": {},
     "output_type": "execute_result"
    }
   ],
   "source": [
    "\"\"\" view list of all countries and time zones \"\"\"\n",
    "\n",
    "#all_timezones = [country_timezones.get(country) for country in country_names]\n",
    "#all_timezones"
   ]
  },
  {
   "cell_type": "code",
   "execution_count": 5,
   "id": "9282ad1f",
   "metadata": {},
   "outputs": [
    {
     "data": {
      "text/html": [
       "<div>\n",
       "<style scoped>\n",
       "    .dataframe tbody tr th:only-of-type {\n",
       "        vertical-align: middle;\n",
       "    }\n",
       "\n",
       "    .dataframe tbody tr th {\n",
       "        vertical-align: top;\n",
       "    }\n",
       "\n",
       "    .dataframe thead th {\n",
       "        text-align: right;\n",
       "    }\n",
       "</style>\n",
       "<table border=\"1\" class=\"dataframe\">\n",
       "  <thead>\n",
       "    <tr style=\"text-align: right;\">\n",
       "      <th></th>\n",
       "      <th>UNIX_sec</th>\n",
       "      <th>ElevationAngle</th>\n",
       "      <th>AzimuthAngle</th>\n",
       "      <th>GSI_W/m^2</th>\n",
       "      <th>Temperature_◦C</th>\n",
       "      <th>DewPoint_◦C</th>\n",
       "      <th>AtmosphericPressure_mmHg</th>\n",
       "      <th>WindDirection_radians</th>\n",
       "      <th>WindVelocity_mile/s</th>\n",
       "      <th>RelativeHumidity_%</th>\n",
       "      <th>readable_datetime</th>\n",
       "    </tr>\n",
       "  </thead>\n",
       "  <tbody>\n",
       "    <tr>\n",
       "      <th>0</th>\n",
       "      <td>1.512747e+09</td>\n",
       "      <td>15.000023</td>\n",
       "      <td>132.825735</td>\n",
       "      <td>247.350955</td>\n",
       "      <td>-1.412616</td>\n",
       "      <td>-10.952546</td>\n",
       "      <td>770.07376</td>\n",
       "      <td>1.909132</td>\n",
       "      <td>0.507345</td>\n",
       "      <td>48.213543</td>\n",
       "      <td>2017-12-08 08:36:04</td>\n",
       "    </tr>\n",
       "  </tbody>\n",
       "</table>\n",
       "</div>"
      ],
      "text/plain": [
       "       UNIX_sec  ElevationAngle  AzimuthAngle   GSI_W/m^2  Temperature_◦C  \\\n",
       "0  1.512747e+09       15.000023    132.825735  247.350955       -1.412616   \n",
       "\n",
       "   DewPoint_◦C  AtmosphericPressure_mmHg  WindDirection_radians  \\\n",
       "0   -10.952546                 770.07376               1.909132   \n",
       "\n",
       "   WindVelocity_mile/s  RelativeHumidity_%    readable_datetime  \n",
       "0             0.507345           48.213543  2017-12-08 08:36:04  "
      ]
     },
     "execution_count": 5,
     "metadata": {},
     "output_type": "execute_result"
    }
   ],
   "source": [
    "\"\"\" Convert to new mexico time format where the data was recorded \"\"\"\n",
    "\n",
    "# convert unix time to abritrary datetime format\n",
    "df['readable_datetime'] = pd.to_datetime(df['UNIX_sec'], unit='s')\n",
    "\n",
    "# first convert datetime format to universal time format UTC. Then convert to new mexico time zone ('America/denver'). Then use strftime to specify the output structure and remove unwanted numbers at the end of the date \n",
    "df['readable_datetime'] = df['readable_datetime'].dt.tz_localize('UTC').dt.tz_convert('America/denver').dt.strftime('%Y-%m-%d %H:%M:%S')\n",
    "\n",
    "# view output to verify results\n",
    "df.head(1)"
   ]
  },
  {
   "cell_type": "code",
   "execution_count": 6,
   "id": "161a440b",
   "metadata": {},
   "outputs": [],
   "source": [
    "# make a copy of the original dataset\n",
    "df1 = df.copy()\n",
    "# df2 = df.copy()\n",
    "# df3 = df.copy()\n",
    "# df4 = df.copy()"
   ]
  },
  {
   "cell_type": "code",
   "execution_count": 7,
   "id": "1c9afcf7",
   "metadata": {},
   "outputs": [],
   "source": [
    "# Resample to 1 min intervals  \n",
    "df_1min = df1.set_index(pd.DatetimeIndex(df1['readable_datetime'])).resample(\"1T\").agg('first') \n",
    "\n",
    "# Resample to 5 min intervals  \n",
    "#df_5min = df2.set_index(pd.DatetimeIndex(df2['readable_datetime'])).resample(\"5T\").agg('first') \n",
    "\n",
    "# Resample to 10 min intervals  \n",
    "#df_10mins = df3.set_index(pd.DatetimeIndex(df3['readable_datetime'])).resample(\"10T\").agg('first') \n",
    "\n",
    "# Resample to 60 min intervals  \n",
    "#df_60mins = df4.set_index(pd.DatetimeIndex(df4['readable_datetime'])).resample(\"60T\").agg('first') "
   ]
  },
  {
   "cell_type": "code",
   "execution_count": 8,
   "id": "513d5151",
   "metadata": {},
   "outputs": [],
   "source": [
    "# Drop all null rows\n",
    "df_1min = df_1min.dropna(how='all')\n",
    "#df_5min2 = df_5min.dropna(how='all')\n",
    "#df_10min2 = df_10mins.dropna(how='all')\n",
    "#df_60min2 = df_60mins.dropna(how='all')"
   ]
  },
  {
   "cell_type": "code",
   "execution_count": 9,
   "id": "b2558943",
   "metadata": {},
   "outputs": [],
   "source": [
    "# save the finale dataframes to csv\n",
    "output_dir = Path.cwd() / \"/Users/musaphiri/Downloads/sample\"\n",
    "df_1min.to_csv(output_dir / '1min.csv', index=False)\n",
    "# df_5min2.to_csv(output_dir / '5min.csv', index=False)\n",
    "# df_10min2.to_csv(output_dir / '10min.csv', index=False)\n",
    "# df_60min2.to_csv(output_dir / '60min.csv', index=False)"
   ]
  },
  {
   "cell_type": "code",
   "execution_count": 10,
   "id": "be1db2aa",
   "metadata": {},
   "outputs": [
    {
     "name": "stdout",
     "output_type": "stream",
     "text": [
      "1 min interval\n",
      "-----------------------\n",
      "<class 'pandas.core.frame.DataFrame'>\n",
      "DatetimeIndex: 118123 entries, 2017-12-08 08:36:00 to 2019-01-20 15:50:00\n",
      "Data columns (total 11 columns):\n",
      " #   Column                    Non-Null Count   Dtype  \n",
      "---  ------                    --------------   -----  \n",
      " 0   UNIX_sec                  118123 non-null  float64\n",
      " 1   ElevationAngle            118123 non-null  float64\n",
      " 2   AzimuthAngle              118123 non-null  float64\n",
      " 3   GSI_W/m^2                 118123 non-null  float64\n",
      " 4   Temperature_◦C            118123 non-null  float64\n",
      " 5   DewPoint_◦C               118123 non-null  float64\n",
      " 6   AtmosphericPressure_mmHg  118123 non-null  float64\n",
      " 7   WindDirection_radians     118123 non-null  float64\n",
      " 8   WindVelocity_mile/s       118123 non-null  float64\n",
      " 9   RelativeHumidity_%        118123 non-null  float64\n",
      " 10  readable_datetime         118123 non-null  object \n",
      "dtypes: float64(10), object(1)\n",
      "memory usage: 10.8+ MB\n",
      "None\n"
     ]
    }
   ],
   "source": [
    "print(\"1 min interval\")\n",
    "print(\"-----------------------\")\n",
    "print(df_1min.info())\n",
    "# print(\" \")\n",
    "# print(\"5 min interval\")\n",
    "# print(\"-----------------------\")\n",
    "# print(df_5min2.info())\n",
    "# print(\" \")\n",
    "# print(\"10 min interval\")\n",
    "# print(\"-----------------------\")\n",
    "# print(df_10min2.info())\n",
    "# print(\" \")\n",
    "# print(\"60 min interval\")\n",
    "# print(\"-----------------------\")\n",
    "# print(df_60min2.info())"
   ]
  },
  {
   "cell_type": "code",
   "execution_count": null,
   "id": "903c40fa",
   "metadata": {},
   "outputs": [],
   "source": []
  }
 ],
 "metadata": {
  "kernelspec": {
   "display_name": "Python 3.9 (tensorflow)",
   "language": "python",
   "name": "tensorflow"
  },
  "language_info": {
   "codemirror_mode": {
    "name": "ipython",
    "version": 3
   },
   "file_extension": ".py",
   "mimetype": "text/x-python",
   "name": "python",
   "nbconvert_exporter": "python",
   "pygments_lexer": "ipython3",
   "version": "3.9.13"
  }
 },
 "nbformat": 4,
 "nbformat_minor": 5
}
